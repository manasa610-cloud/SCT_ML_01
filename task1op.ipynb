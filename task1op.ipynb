{
 "cells": [
  {
   "cell_type": "code",
   "execution_count": 1,
   "id": "196c4122",
   "metadata": {
    "_cell_guid": "b1076dfc-b9ad-4769-8c92-a6c4dae69d19",
    "_uuid": "8f2839f25d086af736a60e9eeb907d3b93b6e0e5",
    "execution": {
     "iopub.execute_input": "2025-08-31T19:02:08.098855Z",
     "iopub.status.busy": "2025-08-31T19:02:08.098418Z",
     "iopub.status.idle": "2025-08-31T19:02:10.087283Z",
     "shell.execute_reply": "2025-08-31T19:02:10.086422Z"
    },
    "papermill": {
     "duration": 1.994091,
     "end_time": "2025-08-31T19:02:10.088836",
     "exception": false,
     "start_time": "2025-08-31T19:02:08.094745",
     "status": "completed"
    },
    "tags": []
   },
   "outputs": [
    {
     "name": "stdout",
     "output_type": "stream",
     "text": [
      "/kaggle/input/house-prices-advanced-regression-techniques/sample_submission.csv\n",
      "/kaggle/input/house-prices-advanced-regression-techniques/data_description.txt\n",
      "/kaggle/input/house-prices-advanced-regression-techniques/train.csv\n",
      "/kaggle/input/house-prices-advanced-regression-techniques/test.csv\n"
     ]
    }
   ],
   "source": [
    "# This Python 3 environment comes with many helpful analytics libraries installed\n",
    "# It is defined by the kaggle/python Docker image: https://github.com/kaggle/docker-python\n",
    "# For example, here's several helpful packages to load\n",
    "\n",
    "import numpy as np # linear algebra\n",
    "import pandas as pd # data processing, CSV file I/O (e.g. pd.read_csv)\n",
    "\n",
    "# Input data files are available in the read-only \"../input/\" directory\n",
    "# For example, running this (by clicking run or pressing Shift+Enter) will list all files under the input directory\n",
    "\n",
    "import os\n",
    "for dirname, _, filenames in os.walk('/kaggle/input'):\n",
    "    for filename in filenames:\n",
    "        print(os.path.join(dirname, filename))\n",
    "\n",
    "# You can write up to 20GB to the current directory (/kaggle/working/) that gets preserved as output when you create a version using \"Save & Run All\" \n",
    "# You can also write temporary files to /kaggle/temp/, but they won't be saved outside of the current session"
   ]
  },
  {
   "cell_type": "code",
   "execution_count": 2,
   "id": "2410fa7f",
   "metadata": {
    "execution": {
     "iopub.execute_input": "2025-08-31T19:02:10.094609Z",
     "iopub.status.busy": "2025-08-31T19:02:10.093636Z",
     "iopub.status.idle": "2025-08-31T19:02:12.138136Z",
     "shell.execute_reply": "2025-08-31T19:02:12.137282Z"
    },
    "papermill": {
     "duration": 2.048602,
     "end_time": "2025-08-31T19:02:12.139571",
     "exception": false,
     "start_time": "2025-08-31T19:02:10.090969",
     "status": "completed"
    },
    "tags": []
   },
   "outputs": [
    {
     "name": "stdout",
     "output_type": "stream",
     "text": [
      "✅ DONE! Submission file created!\n",
      "Predicted prices: $63,929 - $1,285,331\n"
     ]
    }
   ],
   "source": [
    "# COMPLETE HOUSE PRICE PREDICTION - ONE DAY SOLUTION\n",
    "import pandas as pd\n",
    "import numpy as np\n",
    "from sklearn.model_selection import train_test_split\n",
    "from sklearn.linear_model import Ridge\n",
    "from sklearn.metrics import mean_squared_error\n",
    "from sklearn.preprocessing import StandardScaler\n",
    "import warnings\n",
    "warnings.filterwarnings('ignore')\n",
    "\n",
    "# 1. LOAD DATA\n",
    "train = pd.read_csv('/kaggle/input/house-prices-advanced-regression-techniques/train.csv')\n",
    "test = pd.read_csv('/kaggle/input/house-prices-advanced-regression-techniques/test.csv')\n",
    "\n",
    "# 2. SELECT FEATURES (Most important numerical only)\n",
    "features = ['GrLivArea', 'TotalBsmtSF', '1stFlrSF', 'GarageArea', \n",
    "           'YearBuilt', 'OverallQual', 'FullBath', 'BedroomAbvGr']\n",
    "\n",
    "# 3. PREPROCESS\n",
    "def preprocess(df):\n",
    "    df_clean = df[features].copy()\n",
    "    # Fill missing values with median\n",
    "    for col in df_clean.columns:\n",
    "        df_clean[col] = df_clean[col].fillna(df_clean[col].median())\n",
    "    # Add engineered features\n",
    "    df_clean['House_Age'] = 2023 - df_clean['YearBuilt']\n",
    "    df_clean['Total_SF'] = df_clean['GrLivArea'] + df_clean['TotalBsmtSF']\n",
    "    return df_clean\n",
    "\n",
    "X_train = preprocess(train)\n",
    "X_test = preprocess(test)\n",
    "y_train = np.log(train['SalePrice'])  # Log transform target\n",
    "\n",
    "# 4. TRAIN MODEL\n",
    "scaler = StandardScaler()\n",
    "X_train_scaled = scaler.fit_transform(X_train)\n",
    "X_test_scaled = scaler.transform(X_test)\n",
    "\n",
    "model = Ridge(alpha=10)\n",
    "model.fit(X_train_scaled, y_train)\n",
    "\n",
    "# 5. PREDICT AND SUBMIT\n",
    "predictions = np.exp(model.predict(X_test_scaled))  # Transform back from log\n",
    "\n",
    "submission = pd.DataFrame({\n",
    "    'Id': test['Id'], \n",
    "    'SalePrice': predictions\n",
    "})\n",
    "submission.to_csv('submission.csv', index=False)\n",
    "\n",
    "print(\"✅ DONE! Submission file created!\")\n",
    "print(f\"Predicted prices: ${predictions.min():,.0f} - ${predictions.max():,.0f}\")"
   ]
  },
  {
   "cell_type": "code",
   "execution_count": 3,
   "id": "da2a3dca",
   "metadata": {
    "execution": {
     "iopub.execute_input": "2025-08-31T19:02:12.144185Z",
     "iopub.status.busy": "2025-08-31T19:02:12.143891Z",
     "iopub.status.idle": "2025-08-31T19:02:12.155856Z",
     "shell.execute_reply": "2025-08-31T19:02:12.154835Z"
    },
    "papermill": {
     "duration": 0.016079,
     "end_time": "2025-08-31T19:02:12.157508",
     "exception": false,
     "start_time": "2025-08-31T19:02:12.141429",
     "status": "completed"
    },
    "tags": []
   },
   "outputs": [
    {
     "data": {
      "text/plain": [
       "count      1460.000000\n",
       "mean     180921.195890\n",
       "std       79442.502883\n",
       "min       34900.000000\n",
       "25%      129975.000000\n",
       "50%      163000.000000\n",
       "75%      214000.000000\n",
       "max      755000.000000\n",
       "Name: SalePrice, dtype: float64"
      ]
     },
     "execution_count": 3,
     "metadata": {},
     "output_type": "execute_result"
    }
   ],
   "source": [
    "predictions = np.maximum(predictions, 0)\n",
    "train['SalePrice'].describe()\n",
    "# Output:\n",
    "# min    34900.000000\n",
    "# max   755000.000000\n",
    "# mean  180921.195890"
   ]
  }
 ],
 "metadata": {
  "kaggle": {
   "accelerator": "none",
   "dataSources": [
    {
     "databundleVersionId": 868283,
     "sourceId": 5407,
     "sourceType": "competition"
    }
   ],
   "dockerImageVersionId": 31089,
   "isGpuEnabled": false,
   "isInternetEnabled": false,
   "language": "python",
   "sourceType": "notebook"
  },
  "kernelspec": {
   "display_name": "Python 3",
   "language": "python",
   "name": "python3"
  },
  "language_info": {
   "codemirror_mode": {
    "name": "ipython",
    "version": 3
   },
   "file_extension": ".py",
   "mimetype": "text/x-python",
   "name": "python",
   "nbconvert_exporter": "python",
   "pygments_lexer": "ipython3",
   "version": "3.11.13"
  },
  "papermill": {
   "default_parameters": {},
   "duration": 10.597549,
   "end_time": "2025-08-31T19:02:12.879774",
   "environment_variables": {},
   "exception": null,
   "input_path": "__notebook__.ipynb",
   "output_path": "__notebook__.ipynb",
   "parameters": {},
   "start_time": "2025-08-31T19:02:02.282225",
   "version": "2.6.0"
  }
 },
 "nbformat": 4,
 "nbformat_minor": 5
}
